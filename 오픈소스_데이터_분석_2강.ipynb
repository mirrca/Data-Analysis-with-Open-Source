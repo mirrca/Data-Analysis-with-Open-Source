{
  "cells": [
    {
      "cell_type": "markdown",
      "metadata": {
        "id": "view-in-github",
        "colab_type": "text"
      },
      "source": [
        "<a href=\"https://colab.research.google.com/github/mirrca/Data-Analysis-with-Open-Source/blob/main/%EC%98%A4%ED%94%88%EC%86%8C%EC%8A%A4_%EB%8D%B0%EC%9D%B4%ED%84%B0_%EB%B6%84%EC%84%9D_2%EA%B0%95.ipynb\" target=\"_parent\"><img src=\"https://colab.research.google.com/assets/colab-badge.svg\" alt=\"Open In Colab\"/></a>"
      ]
    },
    {
      "cell_type": "markdown",
      "metadata": {
        "id": "DkPKaAsoRq5Q"
      },
      "source": [
        "\n",
        "\n",
        "# 오픈소스 기반 데이터 분석 2강 - 데이터 분석을 위한 파이썬 1\n"
      ]
    },
    {
      "cell_type": "markdown",
      "metadata": {
        "id": "-I7BVVlnRrB0"
      },
      "source": [
        "## 2-1 리스트 슬라이싱"
      ]
    },
    {
      "cell_type": "code",
      "execution_count": 5,
      "metadata": {
        "id": "2Y2HEiaiRwAI",
        "colab": {
          "base_uri": "https://localhost:8080/"
        },
        "outputId": "29017993-51c4-4082-93de-cb7d732035ad"
      },
      "outputs": [
        {
          "output_type": "stream",
          "name": "stdout",
          "text": [
            "[10, 20, 30, 40]\n",
            "[50, 60, 70]\n"
          ]
        }
      ],
      "source": [
        "numbers = [10, 20, 30, 40, 50, 60, 70]\n",
        "# 첫 4개의 원소 출력\n",
        "first_four = numbers[0:4]\n",
        "print(first_four)\n",
        "# 뒤 3개의 원소를 출력\n",
        "last_three = numbers[-3:7]\n",
        "print(last_three)"
      ]
    },
    {
      "cell_type": "code",
      "execution_count": 11,
      "metadata": {
        "id": "IO8bsKekR0W_",
        "colab": {
          "base_uri": "https://localhost:8080/"
        },
        "outputId": "8b0ce70a-b71c-4ea9-f743-ee879318459f"
      },
      "outputs": [
        {
          "output_type": "stream",
          "name": "stdout",
          "text": [
            "[10, 30, 50, 70]\n",
            "[70, 60, 50, 40, 30, 20, 10]\n"
          ]
        }
      ],
      "source": [
        "numbers = [10, 20, 30, 40, 50, 60, 70]\n",
        "\n",
        "# 홀수번째 항목 출력\n",
        "every_other_list = numbers[0:7:2] #0번부터 7번까지 2칸씩 띄어\n",
        "print(every_other_list)\n",
        "\n",
        "# 역순 출력\n",
        "reverse_list = numbers[::-1] #처음부터 끝까지 -1칸씩\n",
        "print(reverse_list)"
      ]
    },
    {
      "cell_type": "code",
      "execution_count": 30,
      "metadata": {
        "id": "60qOf7uxVdAg",
        "colab": {
          "base_uri": "https://localhost:8080/"
        },
        "outputId": "23ce1696-1e32-4d2d-8bb7-4460b40d3a0f"
      },
      "outputs": [
        {
          "output_type": "stream",
          "name": "stdout",
          "text": [
            "[[1, 2, 3, 4], [5, 6, 7, 8]]\n",
            "[[2, 3], [6, 7], [10, 11], [14, 15]]\n"
          ]
        }
      ],
      "source": [
        "matrix = [\n",
        "    [1, 2, 3, 4],\n",
        "    [5, 6, 7, 8],\n",
        "    [9, 10, 11, 12],\n",
        "    [13, 14, 15, 16]\n",
        "]\n",
        "\n",
        "# 첫 두 행 출력\n",
        "first_two_rows = matrix[0:2]\n",
        "print(first_two_rows)\n",
        "\n",
        "# 첫 두 열 출력\n",
        "#first_two_columns = matrix[0:4:2] 실패\n",
        "first_two_columns = [row[0:2] for row in matrix] # 각 행의 0열부터 2열까지 반복자겨오기\n",
        "print(first_two_columns)"
      ]
    },
    {
      "cell_type": "markdown",
      "metadata": {
        "id": "eOMufu5SXiAU"
      },
      "source": [
        "## 2-2 리스트 컴프리헨션"
      ]
    },
    {
      "cell_type": "code",
      "execution_count": 32,
      "metadata": {
        "id": "JpmgdsW9V0CY",
        "colab": {
          "base_uri": "https://localhost:8080/"
        },
        "outputId": "a65727a3-77ba-4618-c2a3-5fa3d060f6ed"
      },
      "outputs": [
        {
          "output_type": "stream",
          "name": "stdout",
          "text": [
            "[0, 1, 2, 3, 4]\n"
          ]
        }
      ],
      "source": [
        "numbers = [ ]\n",
        "\n",
        "# 1 ~ 5 포함 리스트 생성\n",
        "#for i in range(5):\n",
        "#    numbers.append(i)\n",
        "numbers=[i for i in range(5)] # 형태 변환\n",
        "print(numbers)"
      ]
    },
    {
      "cell_type": "code",
      "execution_count": 38,
      "metadata": {
        "id": "cRC8x3_iW0im",
        "colab": {
          "base_uri": "https://localhost:8080/"
        },
        "outputId": "4ebf40e1-3e4b-47f6-8c7c-5a689662d8dc"
      },
      "outputs": [
        {
          "output_type": "stream",
          "name": "stdout",
          "text": [
            "[1, 4, 9, 16, 25]\n"
          ]
        }
      ],
      "source": [
        "numbers = [1, 2, 3, 4, 5]\n",
        "squares = [ ]\n",
        "\n",
        "# numbers의 모든 항목의 값을 제곱한 리스트\n",
        "#for num in numbers:\n",
        "#  squares.append(num ** 2)\n",
        "squares = [i**2 for i in numbers[:]]\n",
        "\n",
        "print(squares)"
      ]
    },
    {
      "cell_type": "code",
      "execution_count": 41,
      "metadata": {
        "id": "MAvimjk6Fqlc",
        "colab": {
          "base_uri": "https://localhost:8080/"
        },
        "outputId": "a7e7faae-3b78-4e7d-ccbd-c5a35219bdc8"
      },
      "outputs": [
        {
          "output_type": "stream",
          "name": "stdout",
          "text": [
            "[2, 4, 6, 8, 10]\n"
          ]
        }
      ],
      "source": [
        "numbers = [1, 2, 3, 4, 5, 6, 7, 8, 9, 10]\n",
        "even_numbers = [ ]\n",
        "\n",
        "# 짝수만 추출한 리스트\n",
        "#for num in numbers:\n",
        "#    if num % 2 == 0:\n",
        "#        even_numbers.append(num)\n",
        "\n",
        "#even_numbers = [i%2==0 for i in numbers] 실패\n",
        "even_numbers = [i for i in numbers if i %2==0]\n",
        "\n",
        "\n",
        "print(even_numbers)"
      ]
    },
    {
      "cell_type": "code",
      "execution_count": 42,
      "metadata": {
        "id": "HGO8XTxBFqld",
        "colab": {
          "base_uri": "https://localhost:8080/"
        },
        "outputId": "0b1f9a29-c307-47d9-8e99-37e2008e6fff"
      },
      "outputs": [
        {
          "output_type": "stream",
          "name": "stdout",
          "text": [
            "[('사과', '주스'), ('사과', '잼'), ('사과', '통조림'), ('복숭아', '주스'), ('복숭아', '잼'), ('복숭아', '통조림'), ('바나나', '주스'), ('바나나', '잼'), ('바나나', '통조림')]\n"
          ]
        }
      ],
      "source": [
        "list1 = ['사과', '복숭아', '바나나']\n",
        "list2 = ['주스', '잼', '통조림']\n",
        "pairs = [ ]\n",
        "\n",
        "# 두 리스트에 포함되 모든 원소를 조합한 투플의 리스트 생성\n",
        "#for fruit in list1:\n",
        "#    for product in list2:\n",
        "#        pairs.append((fruit, product))\n",
        "\n",
        "pairs = [(fruit, product) for fruit in list1 for product in list2]\n",
        "\n",
        "\n",
        "print(pairs)"
      ]
    },
    {
      "cell_type": "code",
      "execution_count": 48,
      "metadata": {
        "id": "K-BPhFTUFqle",
        "colab": {
          "base_uri": "https://localhost:8080/"
        },
        "outputId": "d3736388-dcc7-480f-a61d-ef12b4e7d962"
      },
      "outputs": [
        {
          "output_type": "stream",
          "name": "stdout",
          "text": [
            "{0: 0, 1: 1, 2: 4, 3: 9, 4: 16}\n"
          ]
        }
      ],
      "source": [
        "squares = { }\n",
        "\n",
        "# 딕셔너리 생성\n",
        "#for i in range(5):\n",
        "#    squares[i] = i ** 2\n",
        "\n",
        "squares = {i : i**2 for i in range(5)}\n",
        "\n",
        "print(squares)"
      ]
    },
    {
      "cell_type": "code",
      "execution_count": 63,
      "metadata": {
        "id": "UoTcC8-GFqlf",
        "colab": {
          "base_uri": "https://localhost:8080/"
        },
        "outputId": "9b6daa27-cb53-409a-d913-8d5ae7821fe2"
      },
      "outputs": [
        {
          "output_type": "stream",
          "name": "stdout",
          "text": [
            "{'서울': 957, '부산': 339, '인천': 294, '대구': 242}\n",
            "{'부산': 339}\n"
          ]
        }
      ],
      "source": [
        "city_population = {\n",
        "    '서울': 957, '부산': 339, '인천': 294, '대구': 242, '광주': 145, '대전': 147,\n",
        "    '울산': 114, '세종': 36, '수원': 115, '창원': 103, '고양': 105, '용인': 108, '성남': 94\n",
        "}\n",
        "\n",
        "# 검색으로 활용\n",
        "# 인구 200만명 이상의 도시 리스트\n",
        "\n",
        "#large_cities= {i for i in city_population [i] if i >200} 실패\n",
        "large_cities = {i:j for i,j in city_population.items() if j>=200} #아이템즈로 튜플형식 지정 i,j부분을 하나로 묶어줌?\n",
        "\n",
        "print(large_cities)\n",
        "\n",
        "# 인구 300만 이상 및 이름에 '산'이 포함된 도시 리스트\n",
        "\n",
        "large_short_name_cities = {i:j for i, j in city_population.items() if j>=300 and '산'in i} # item's', in\n",
        "\n",
        "print(large_short_name_cities)"
      ]
    },
    {
      "cell_type": "markdown",
      "metadata": {
        "id": "njDOfr1LFqlf"
      },
      "source": [
        "## 2-3 문자열 형식화"
      ]
    },
    {
      "cell_type": "code",
      "execution_count": 70,
      "metadata": {
        "id": "fzO0h6KfFqlg",
        "colab": {
          "base_uri": "https://localhost:8080/"
        },
        "outputId": "8c3d5328-ca2a-41bb-f412-02bc7e043855"
      },
      "outputs": [
        {
          "output_type": "stream",
          "name": "stdout",
          "text": [
            "이름:홍길동, 나이:30, 급여:3500000원, 세율: 0.100000%\n"
          ]
        }
      ],
      "source": [
        "name = '홍길동'\n",
        "age = 30\n",
        "salary = 3500000\n",
        "tax_rate = 0.1\n",
        "\n",
        "# C 스타일 문자열 포매팅\n",
        "# 이름, 나이, 월급 출력\n",
        "basic_format = '이름:%s, 나이:%d, 급여:%d원, 세율: %f%%' %(name, age, salary, tax_rate)\n",
        "\n",
        "\n",
        "# 직원이름, 나이, 세후 월급 출력\n",
        "\n",
        "\n",
        "# 직원이름, 나이, 월급, 세금, 실수령액 추력\n",
        "\n",
        "\n",
        "print(basic_format)"
      ]
    },
    {
      "cell_type": "code",
      "source": [
        "name = '홍길동'\n",
        "age = 30\n",
        "salary = 3500000\n",
        "tax_rate = 0.1\n",
        "\n",
        "# str.format 문자열 포매팅\n",
        "# 이름, 나이, 월급 출력\n",
        "\n",
        "basic_format=\n",
        "\n",
        "# 직원이름, 나이, 세후 월급 출력\n",
        "\n",
        "# 직원이름, 나이, 월급, 세금, 실수령액 추력\n",
        "\n",
        "\n",
        "print(basic_format)\n"
      ],
      "metadata": {
        "id": "cIvmmcQux_ph"
      },
      "execution_count": null,
      "outputs": []
    },
    {
      "cell_type": "code",
      "source": [
        "name = '홍길동'\n",
        "age = 30\n",
        "salary = 3500000\n",
        "tax_rate = 0.1\n",
        "\n",
        "# f-문자열 포매팅\n",
        "# 이름, 나이, 월급 출력\n",
        "\n",
        "# 직원이름, 나이, 세후 월급 출력\n",
        "\n",
        "# 직원이름, 나이, 월급, 세금, 실수령액 추력\n",
        "\n",
        "\n",
        "print(basic_format)\n",
        "print(index_format)\n",
        "print(keyword_format)"
      ],
      "metadata": {
        "id": "EIO3z-XQx_ce"
      },
      "execution_count": null,
      "outputs": []
    },
    {
      "cell_type": "markdown",
      "metadata": {
        "id": "6lnhCleJFqlg"
      },
      "source": [
        "## 2-4 컨텍스트 관리"
      ]
    },
    {
      "cell_type": "code",
      "execution_count": null,
      "metadata": {
        "id": "eFpmQp3QFqlh"
      },
      "outputs": [],
      "source": [
        "# 파일 오픈 & 클로즈\n",
        "file = open('output.txt', 'w')\n",
        "file.write('Hello, world!\\n')\n"
      ]
    },
    {
      "cell_type": "code",
      "execution_count": null,
      "metadata": {
        "id": "D0aOLti0Fqlh"
      },
      "outputs": [],
      "source": [
        "# 복수개의 파일(읽기 & 쓰기) 관리\n",
        "\n"
      ]
    },
    {
      "cell_type": "code",
      "execution_count": null,
      "metadata": {
        "id": "6SE0rrD5Fqli"
      },
      "outputs": [],
      "source": [
        "import urllib.request\n",
        "\n",
        "# URL 연결 관리\n",
        "('https://raw.githubusercontent.com/jaehwachung/Data-Analysis-with-Open-Source/refs/heads/main/Chapter%203/students.csv')\n",
        "    data = response.read( ).decode('utf-8')\n",
        "\n",
        "print(data)"
      ]
    }
  ],
  "metadata": {
    "colab": {
      "provenance": [],
      "include_colab_link": true
    },
    "kernelspec": {
      "display_name": "Python 3",
      "name": "python3"
    },
    "language_info": {
      "name": "python"
    }
  },
  "nbformat": 4,
  "nbformat_minor": 0
}